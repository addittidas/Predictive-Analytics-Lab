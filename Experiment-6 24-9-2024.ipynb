{
 "cells": [
  {
   "cell_type": "code",
   "execution_count": 1,
   "id": "36290f33",
   "metadata": {},
   "outputs": [
    {
     "name": "stdout",
     "output_type": "stream",
     "text": [
      "  customerID  gender  SeniorCitizen Partner Dependents  tenure PhoneService  \\\n",
      "0   CUST0000    Male              0      No        Yes      23           No   \n",
      "1   CUST0001  Female              0     Yes         No      43           No   \n",
      "2   CUST0002    Male              1      No         No      51          Yes   \n",
      "3   CUST0003    Male              1      No         No      72          Yes   \n",
      "4   CUST0004    Male              1      No         No      25          Yes   \n",
      "\n",
      "      MultipleLines InternetService       OnlineSecurity  ...  \\\n",
      "0  No phone service              No  No internet service  ...   \n",
      "1  No phone service             DSL                  Yes  ...   \n",
      "2                No             DSL                   No  ...   \n",
      "3               Yes             DSL                  Yes  ...   \n",
      "4               Yes             DSL                   No  ...   \n",
      "\n",
      "      DeviceProtection          TechSupport          StreamingTV  \\\n",
      "0  No internet service  No internet service  No internet service   \n",
      "1                  Yes                   No                  Yes   \n",
      "2                  Yes                  Yes                   No   \n",
      "3                  Yes                   No                   No   \n",
      "4                   No                  Yes                   No   \n",
      "\n",
      "       StreamingMovies        Contract PaperlessBilling     PaymentMethod  \\\n",
      "0  No internet service  Month-to-month              Yes     Bank transfer   \n",
      "1                   No  Month-to-month               No      Mailed check   \n",
      "2                   No        One year               No  Electronic check   \n",
      "3                   No  Month-to-month               No       Credit card   \n",
      "4                  Yes  Month-to-month               No  Electronic check   \n",
      "\n",
      "  MonthlyCharges  TotalCharges  Churn  \n",
      "0          49.85       1146.55     No  \n",
      "1         100.70       4330.10    Yes  \n",
      "2          97.33       4963.83    Yes  \n",
      "3         101.38       7299.36     No  \n",
      "4          52.22       1305.50    Yes  \n",
      "\n",
      "[5 rows x 21 columns]\n"
     ]
    }
   ],
   "source": [
    "# Dataset: Telecom customer data (e.g., from Kaggle)\n",
    "import pandas as pd\n",
    "\n",
    "data = pd.read_csv(\"customer_churn_data.csv\")\n",
    "print(data.head())"
   ]
  },
  {
   "cell_type": "code",
   "execution_count": 7,
   "id": "29d6b826",
   "metadata": {},
   "outputs": [],
   "source": [
    "# Data preprocessing (handling missing values, outliers, feature scaling)\n",
    "import numpy as np\n",
    "from sklearn.preprocessing import StandardScaler\n",
    "\n",
    "for col in data.select_dtypes(include=['object']):\n",
    "    data[col] = data[col].fillna(data[col].mode()[0])\n",
    "\n",
    "for col in data.select_dtypes(include=[np.number]):\n",
    "    data[col] = data[col].fillna(data[col].mean())\n",
    "    \n",
    "# Convert categorical variables to numerical using one-hot encoding\n",
    "data = pd.get_dummies(data, drop_first=True)\n",
    "\n",
    "# Feature Scaling\n",
    "scaler = StandardScaler()\n",
    "numeric_cols = data.select_dtypes(include=np.number).columns.tolist()\n",
    "data[numeric_cols] = scaler.fit_transform(data[numeric_cols])"
   ]
  },
  {
   "cell_type": "code",
   "execution_count": 15,
   "id": "b951fc96",
   "metadata": {},
   "outputs": [],
   "source": [
    "# Exploratory data analysis (EDA) to identify potential predictors\n",
    "X = data.drop('Churn_Yes', axis=1)\n",
    "y = data['Churn_Yes'].values"
   ]
  },
  {
   "cell_type": "code",
   "execution_count": 16,
   "id": "af152bf5",
   "metadata": {},
   "outputs": [],
   "source": [
    "from sklearn.model_selection import train_test_split\n",
    "# Split the data into training and testing sets\n",
    "X_train, X_test, y_train, y_test = train_test_split(X, y, test_size=0.2, random_state=42)"
   ]
  },
  {
   "cell_type": "code",
   "execution_count": 17,
   "id": "451b5120",
   "metadata": {},
   "outputs": [],
   "source": [
    "# Building a simple linear /logistic regression model\n",
    "class LogisticRegressionScratch:\n",
    "    def __init__(self, learning_rate=0.01, n_iter=1000):\n",
    "        self.learning_rate = learning_rate\n",
    "        self.n_iter = n_iter\n",
    "        self.weights = None\n",
    "        self.bias = None\n",
    "\n",
    "    def sigmoid(self, z):\n",
    "        z = np.asarray(z)  # Ensure z is a numpy array\n",
    "        return 1 / (1 + np.exp(-np.clip(z, -500, 500)))  # Clip to prevent overflow\n",
    "\n",
    "    def fit(self, X, y):\n",
    "        n_samples, n_features = X.shape\n",
    "        self.weights = np.zeros(n_features)\n",
    "        self.bias = 0\n",
    "\n",
    "        for _ in range(self.n_iter):\n",
    "            linear_model = np.dot(X, self.weights) + self.bias\n",
    "            y_predicted = self.sigmoid(linear_model)\n",
    "\n",
    "            # Gradient Descent\n",
    "            dw = (1 / n_samples) * np.dot(X.T, (y_predicted - y))\n",
    "            db = (1 / n_samples) * np.sum(y_predicted - y)\n",
    "\n",
    "            self.weights -= self.learning_rate * dw\n",
    "            self.bias -= self.learning_rate * db\n",
    "\n",
    "    def predict(self, X):\n",
    "        linear_model = np.dot(X, self.weights) + self.bias\n",
    "        y_predicted = self.sigmoid(linear_model)\n",
    "        y_predicted_class = [1 if i > 0.5 else 0 for i in y_predicted]\n",
    "        return np.array(y_predicted_class)"
   ]
  },
  {
   "cell_type": "code",
   "execution_count": 18,
   "id": "6f556774",
   "metadata": {},
   "outputs": [],
   "source": [
    "# Initialize and train the model\n",
    "model = LogisticRegressionScratch(learning_rate=0.01, n_iter=1000)\n",
    "model.fit(X_train.values.astype(float), y_train.astype(float))  # Ensure types are correct\n",
    "\n",
    "# Predictions\n",
    "y_pred = model.predict(X_test.values.astype(float))"
   ]
  },
  {
   "cell_type": "code",
   "execution_count": 20,
   "id": "5203a0dd",
   "metadata": {},
   "outputs": [
    {
     "name": "stdout",
     "output_type": "stream",
     "text": [
      "Accuracy: 0.50\n",
      "Precision: 0.51\n",
      "Recall: 0.26\n",
      "F1 Score: 0.34\n"
     ]
    }
   ],
   "source": [
    "# Evaluating model performance using accuracy, precision, recall, F1-score\n",
    "\n",
    "from sklearn.metrics import accuracy_score, precision_score, recall_score, f1_score, confusion_matrix\n",
    "\n",
    "accuracy = accuracy_score(y_test, y_pred)\n",
    "precision = precision_score(y_test, y_pred)\n",
    "recall = recall_score(y_test, y_pred)\n",
    "f1 = f1_score(y_test, y_pred)\n",
    "\n",
    "# Print evaluation metrics\n",
    "print(f'Accuracy: {accuracy:.2f}')\n",
    "print(f'Precision: {precision:.2f}')\n",
    "print(f'Recall: {recall:.2f}')\n",
    "print(f'F1 Score: {f1:.2f}')"
   ]
  },
  {
   "cell_type": "code",
   "execution_count": 21,
   "id": "aa97a34c",
   "metadata": {},
   "outputs": [
    {
     "data": {
      "image/png": "[encoded data removed]",
      "text/plain": [
       "<Figure size 800x600 with 2 Axes>"
      ]
     },
     "metadata": {},
     "output_type": "display_data"
    }
   ],
   "source": [
    "import seaborn as sns\n",
    "import matplotlib.pyplot as plt\n",
    "\n",
    "# Confusion Matrix\n",
    "conf_matrix = confusion_matrix(y_test, y_pred)\n",
    "plt.figure(figsize=(8, 6))\n",
    "sns.heatmap(conf_matrix, annot=True, fmt='d', cmap='Blues')\n",
    "plt.title('Confusion Matrix')\n",
    "plt.xlabel('Predicted')\n",
    "plt.ylabel('Actual')\n",
    "plt.show()"
   ]
  },
  {
   "cell_type": "code",
   "execution_count": null,
   "id": "cd162d54",
   "metadata": {},
   "outputs": [],
   "source": []
  }
 ],
 "metadata": {
  "kernelspec": {
   "display_name": "Python 3 (ipykernel)",
   "language": "python",
   "name": "python3"
  },
  "language_info": {
   "codemirror_mode": {
    "name": "ipython",
    "version": 3
   },
   "file_extension": ".py",
   "mimetype": "text/x-python",
   "name": "python",
   "nbconvert_exporter": "python",
   "pygments_lexer": "ipython3",
   "version": "3.11.5"
  }
 },
 "nbformat": 4,
 "nbformat_minor": 5
}
