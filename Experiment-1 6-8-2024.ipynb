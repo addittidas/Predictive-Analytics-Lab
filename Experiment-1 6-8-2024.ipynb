{
 "cells": [
  {
   "cell_type": "code",
   "execution_count": 2,
   "id": "2c947a33",
   "metadata": {},
   "outputs": [
    {
     "name": "stdout",
     "output_type": "stream",
     "text": [
      "Enter first number: 45\n",
      "Enter second number: 23\n",
      "Sum:  68\n",
      "Difference:  22\n",
      "Product:  1035\n",
      "Quotient:  1.9565217391304348\n",
      "Remainder(Modulus):  22\n"
     ]
    }
   ],
   "source": [
    "#Q1. Write a Python program to perform basic arithmetic operations \n",
    "#(addition, subtraction, multiplication, division, and modulus) on two numbers.\n",
    "\n",
    "num1 = int(input(\"Enter first number: \"))\n",
    "num2 = int(input(\"Enter second number: \"))\n",
    "print(\"Sum: \", num1 + num2)\n",
    "print(\"Difference: \", num1 - num2)\n",
    "print(\"Product: \", num1 * num2)\n",
    "print(\"Quotient: \", num1 / num2)\n",
    "print(\"Remainder(Modulus): \", num1 % num2)"
   ]
  },
  {
   "cell_type": "code",
   "execution_count": 4,
   "id": "b93ecd9d",
   "metadata": {},
   "outputs": [
    {
     "name": "stdout",
     "output_type": "stream",
     "text": [
      "Addition:  94.5\n",
      "Subtraction:  -26.5\n",
      "Multiplication:  2057.0\n",
      "Division:  0.5619834710743802\n",
      "\n",
      "Concatenation:  Hello World\n",
      "\n",
      "Logical Operator AND:  False\n",
      "Logical Operator OR:  True\n",
      "Logical Operator NOT:  False\n"
     ]
    }
   ],
   "source": [
    "#Q2.  Create variables of different data types (integer, float, string, boolean) and perform basic operations on them.\n",
    "\n",
    "int_var = 34\n",
    "flt_var = 60.5\n",
    "str_var = \"Hello\"\n",
    "bool_var = True\n",
    "\n",
    "print(\"Addition: \", int_var + flt_var)\n",
    "print(\"Subtraction: \", int_var - flt_var)\n",
    "print(\"Multiplication: \", int_var * flt_var)\n",
    "print(\"Division: \", int_var / flt_var)\n",
    "\n",
    "str2_var = \"World\"\n",
    "print(\"\\nConcatenation: \", str_var + \" \" + str2_var)\n",
    "\n",
    "bool2_var = False\n",
    "\n",
    "print(\"\\nLogical Operator AND: \", bool_var and bool2_var)\n",
    "print(\"Logical Operator OR: \", bool_var or bool2_var)\n",
    "print(\"Logical Operator NOT: \", not bool_var)"
   ]
  },
  {
   "cell_type": "code",
   "execution_count": 6,
   "id": "5473b31c",
   "metadata": {},
   "outputs": [
    {
     "name": "stdout",
     "output_type": "stream",
     "text": [
      "Enter name: Aditi\n",
      "Hello  Aditi\n",
      "Enter year of birth: 2004\n",
      "Your age: 20\n"
     ]
    }
   ],
   "source": [
    "#Q3. Write a program to take user input, process it, and display the result.\n",
    "\n",
    "name = input(\"Enter name: \")\n",
    "print('Hello ', name)\n",
    "\n",
    "byear = int(input(\"Enter year of birth: \"))\n",
    "print(\"Your age:\", 2024 - byear)"
   ]
  },
  {
   "cell_type": "code",
   "execution_count": 7,
   "id": "6c5674c9",
   "metadata": {},
   "outputs": [
    {
     "name": "stdout",
     "output_type": "stream",
     "text": [
      "Enter number: 45\n",
      "Odd number\n"
     ]
    }
   ],
   "source": [
    "#Q4.  Write a program to check if a number is even or odd.\n",
    "num = int(input(\"Enter number: \"))\n",
    "if (num%2 == 0):\n",
    "    print(\"Even number\")\n",
    "else:\n",
    "    print(\"Odd number\")"
   ]
  },
  {
   "cell_type": "code",
   "execution_count": 12,
   "id": "c2df682d",
   "metadata": {},
   "outputs": [
    {
     "name": "stdout",
     "output_type": "stream",
     "text": [
      "Using for loop:\n",
      "1\n",
      "2\n",
      "3\n",
      "4\n",
      "5\n",
      "6\n",
      "7\n",
      "8\n",
      "9\n",
      "10\n",
      "\n",
      "Using while loop:\n",
      "1\n",
      "2\n",
      "3\n",
      "4\n",
      "5\n",
      "6\n",
      "7\n",
      "8\n",
      "9\n",
      "10\n"
     ]
    }
   ],
   "source": [
    "#Q5. Write a program to print the numbers from 1 to 10 using both for and while loops.\n",
    "\n",
    "print(\"Using for loop:\")\n",
    "for i in range(1, 11):\n",
    "    print(i)\n",
    "\n",
    "print(\"\\nUsing while loop:\")\n",
    "counter_var = 1\n",
    "while counter_var <= 10:\n",
    "    print(counter_var)\n",
    "    counter_var += 1"
   ]
  },
  {
   "cell_type": "code",
   "execution_count": 15,
   "id": "b413c9ee",
   "metadata": {},
   "outputs": [
    {
     "name": "stdout",
     "output_type": "stream",
     "text": [
      "Accessing elements:  mango\n",
      "Modified list ['orange', 'mango', 'Kiwi', 'apple', 'grapes']\n",
      "Adding element: ['orange', 'mango', 'Kiwi', 'apple', 'grapes', 'banana']\n",
      "Deleting element: ['orange', 'mango', 'Kiwi', 'grapes', 'banana']\n",
      "Length of list:  5\n",
      "List in ascending order: ['Kiwi', 'banana', 'grapes', 'mango', 'orange']\n",
      "List in descending order: ['orange', 'mango', 'grapes', 'banana', 'Kiwi']\n"
     ]
    }
   ],
   "source": [
    "#Q6.  Create a list, access elements, modify elements, and perform list operations.\n",
    "\n",
    "list = ['orange', 'mango', 'guava', 'apple', 'grapes']\n",
    "print(\"Accessing elements: \", list[1])\n",
    "\n",
    "list[2] = \"Kiwi\"\n",
    "print(\"Modified list\", list)\n",
    "\n",
    "list.append(\"banana\")\n",
    "print(\"Adding element:\", list)\n",
    "\n",
    "list.remove(\"apple\")\n",
    "print(\"Deleting element:\", list)\n",
    "\n",
    "print(\"Length of list: \", len(list))\n",
    "\n",
    "list.sort()\n",
    "print(\"List in ascending order:\", list)\n",
    "\n",
    "list.sort(reverse=True)\n",
    "print(\"List in descending order:\", list)"
   ]
  },
  {
   "cell_type": "code",
   "execution_count": 21,
   "id": "766a4c89",
   "metadata": {},
   "outputs": [
    {
     "name": "stdout",
     "output_type": "stream",
     "text": [
      "Length:  6\n",
      "Uppercase:  STRING\n",
      "Lowercase:  string\n",
      "Substring present in the string: True\n",
      "List of words: ['string']\n"
     ]
    }
   ],
   "source": [
    "# Q7. Manipulate strings using various built-in functions.\n",
    "\n",
    "str = \"string\"\n",
    "print(\"Length: \", len(str))\n",
    "\n",
    "print(\"Uppercase: \", str.upper())\n",
    "print(\"Lowercase: \", str.lower())\n",
    "\n",
    "substring = \"rin\"\n",
    "print(\"Substring present in the string:\", substring in str)\n",
    "\n",
    "words_list = str.split()\n",
    "print(\"List of words:\", words_list)"
   ]
  },
  {
   "cell_type": "code",
   "execution_count": 25,
   "id": "08d95fcd",
   "metadata": {},
   "outputs": [
    {
     "name": "stdout",
     "output_type": "stream",
     "text": [
      "Largest number:  78\n",
      "Smallest number:  12\n"
     ]
    }
   ],
   "source": [
    "# Q8. Write a program to find the largest and smallest number in a list.\n",
    "\n",
    "numbers = [23, 56, 12, 78, 67]\n",
    "\n",
    "largest = numbers[0]\n",
    "smallest = numbers[0]\n",
    "\n",
    "for number in numbers:\n",
    "    if number > largest:\n",
    "        largest = number\n",
    "    if number < smallest:\n",
    "        smallest = number\n",
    "                      \n",
    "print(\"Largest number: \", largest)\n",
    "print(\"Smallest number: \", smallest)"
   ]
  },
  {
   "cell_type": "code",
   "execution_count": null,
   "id": "16381296",
   "metadata": {},
   "outputs": [],
   "source": []
  }
 ],
 "metadata": {
  "kernelspec": {
   "display_name": "Python 3 (ipykernel)",
   "language": "python",
   "name": "python3"
  },
  "language_info": {
   "codemirror_mode": {
    "name": "ipython",
    "version": 3
   },
   "file_extension": ".py",
   "mimetype": "text/x-python",
   "name": "python",
   "nbconvert_exporter": "python",
   "pygments_lexer": "ipython3",
   "version": "3.11.5"
  }
 },
 "nbformat": 4,
 "nbformat_minor": 5
}
