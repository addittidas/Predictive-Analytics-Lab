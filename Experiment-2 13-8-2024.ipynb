{
 "cells": [
  {
   "cell_type": "code",
   "execution_count": 14,
   "id": "8b103bcd",
   "metadata": {},
   "outputs": [
    {
     "name": "stdout",
     "output_type": "stream",
     "text": [
      "red\n",
      "orange\n"
     ]
    },
    {
     "ename": "TypeError",
     "evalue": "'tuple' object does not support item assignment",
     "output_type": "error",
     "traceback": [
      "\u001b[1;31m---------------------------------------------------------------------------\u001b[0m",
      "\u001b[1;31mTypeError\u001b[0m                                 Traceback (most recent call last)",
      "Cell \u001b[1;32mIn[14], line 9\u001b[0m\n\u001b[0;32m      6\u001b[0m \u001b[38;5;28mprint\u001b[39m(colors[\u001b[38;5;241m-\u001b[39m\u001b[38;5;241m1\u001b[39m])\n\u001b[0;32m      8\u001b[0m \u001b[38;5;66;03m# Try to modify an element in the tuple (to demonstrate immutability).\u001b[39;00m\n\u001b[1;32m----> 9\u001b[0m colors[\u001b[38;5;241m4\u001b[39m] \u001b[38;5;241m=\u001b[39m \u001b[38;5;124m\"\u001b[39m\u001b[38;5;124mpurple\u001b[39m\u001b[38;5;124m\"\u001b[39m  \u001b[38;5;66;03m# This will raise a TypeError\u001b[39;00m\n\u001b[0;32m     11\u001b[0m \u001b[38;5;66;03m# Find the number of occurrences of a specific element in the tuple.\u001b[39;00m\n\u001b[0;32m     12\u001b[0m col_count \u001b[38;5;241m=\u001b[39m colors\u001b[38;5;241m.\u001b[39mcount(\u001b[38;5;124m\"\u001b[39m\u001b[38;5;124mblue\u001b[39m\u001b[38;5;124m\"\u001b[39m)\n",
      "\u001b[1;31mTypeError\u001b[0m: 'tuple' object does not support item assignment"
     ]
    }
   ],
   "source": [
    "# Create a tuple of colors.\n",
    "colors = (\"red\", \"blue\", \"green\", \"yellow\", \"blue\", \"orange\")\n",
    "\n",
    "# Access elements using indexing.\n",
    "print(colors[0])\n",
    "print(colors[-1])\n",
    "\n",
    "# Try to modify an element in the tuple (to demonstrate immutability).\n",
    "colors[4] = \"purple\"  # This will raise a TypeError\n",
    "\n",
    "# Find the number of occurrences of a specific element in the tuple.\n",
    "col_count = colors.count(\"blue\")\n",
    "print(col_count)\n"
   ]
  },
  {
   "cell_type": "code",
   "execution_count": 12,
   "id": "322b89f8",
   "metadata": {},
   "outputs": [
    {
     "name": "stdout",
     "output_type": "stream",
     "text": [
      "Aditi\n",
      "20\n",
      "New Delhi\n",
      "{'name': 'Aditi', 'age': 20, 'city': 'New Delhi', 'email': 'aditi@mail.com'}\n",
      "{'name': 'Aditi', 'age': 20, 'city': 'Hyderabad', 'email': 'aditi@mail.com'}\n",
      "Name exists.\n",
      "Phone number does not exist.\n",
      "['name', 'age', 'city', 'email']\n",
      "['Aditi', 20, 'Hyderabad', 'aditi@mail.com']\n"
     ]
    }
   ],
   "source": [
    "#Q2.  Create and manipulate dictionaries.\n",
    "\n",
    "# Create a dictionary to store information about a person (name, age, city).\n",
    "person = {'name':\"Aditi\",\n",
    "  'age':20,\n",
    "  'city':\"New Delhi\"}\n",
    "\n",
    "# Access values using keys.\n",
    "name = person[\"name\"]\n",
    "age = person[\"age\"]\n",
    "city = person[\"city\"]\n",
    "\n",
    "print(name)  \n",
    "print(age)   \n",
    "print(city)  \n",
    "\n",
    "# Add a new key-value pair to the dictionary.\n",
    "\n",
    "person[\"email\"] = \"aditi@mail.com\"\n",
    "print(person)\n",
    "\n",
    "# Modify an existing value.\n",
    "\n",
    "person[\"city\"] = \"Hyderabad\"\n",
    "print(person)\n",
    "\n",
    "# Check if a key exists in the dictionary.\n",
    "if \"name\" in person:\n",
    "    print(\"Name exists.\")\n",
    "if \"phone\" not in person:\n",
    "    print(\"Phone number does not exist.\")\n",
    "\n",
    "# Get a list of all keys and values.\n",
    "keys = list(person.keys())\n",
    "values = list(person.values())\n",
    "\n",
    "print(keys)\n",
    "print(values)"
   ]
  },
  {
   "cell_type": "code",
   "execution_count": 16,
   "id": "50a0ee9d",
   "metadata": {},
   "outputs": [
    {
     "name": "stdout",
     "output_type": "stream",
     "text": [
      "Modified List: [11, 20, 33, 44]\n"
     ]
    },
    {
     "ename": "TypeError",
     "evalue": "'tuple' object does not support item assignment",
     "output_type": "error",
     "traceback": [
      "\u001b[1;31m---------------------------------------------------------------------------\u001b[0m",
      "\u001b[1;31mTypeError\u001b[0m                                 Traceback (most recent call last)",
      "Cell \u001b[1;32mIn[16], line 11\u001b[0m\n\u001b[0;32m      8\u001b[0m \u001b[38;5;28mlist\u001b[39m[\u001b[38;5;241m1\u001b[39m] \u001b[38;5;241m=\u001b[39m \u001b[38;5;241m20\u001b[39m\n\u001b[0;32m      9\u001b[0m \u001b[38;5;28mprint\u001b[39m(\u001b[38;5;124m\"\u001b[39m\u001b[38;5;124mModified List:\u001b[39m\u001b[38;5;124m\"\u001b[39m, \u001b[38;5;28mlist\u001b[39m)\n\u001b[1;32m---> 11\u001b[0m tup[\u001b[38;5;241m1\u001b[39m] \u001b[38;5;241m=\u001b[39m \u001b[38;5;241m20\u001b[39m\n\u001b[0;32m     12\u001b[0m \u001b[38;5;28mprint\u001b[39m(\u001b[38;5;124m\"\u001b[39m\u001b[38;5;124mModified Tuple:\u001b[39m\u001b[38;5;124m\"\u001b[39m, tup)\n",
      "\u001b[1;31mTypeError\u001b[0m: 'tuple' object does not support item assignment"
     ]
    }
   ],
   "source": [
    "#Q3. Demonstrate the difference between mutable and immutable data types.\n",
    "\n",
    "# Create a list and a tuple.\n",
    "list = [11, 22, 33, 44]\n",
    "tup = (55, 66, 77, 88)\n",
    "\n",
    "# Try to modify an element in both the list and the tuple.\n",
    "list[1] = 20\n",
    "print(\"Modified List:\", list)\n",
    "\n",
    "tup[1] = 20\n",
    "print(\"Modified Tuple:\", tup)"
   ]
  },
  {
   "cell_type": "code",
   "execution_count": 18,
   "id": "b18a6f78",
   "metadata": {},
   "outputs": [
    {
     "name": "stdout",
     "output_type": "stream",
     "text": [
      "Enter number: 12\n",
      "12 x 1 = 12\n",
      "12 x 2 = 24\n",
      "12 x 3 = 36\n",
      "12 x 4 = 48\n",
      "12 x 5 = 60\n",
      "12 x 6 = 72\n",
      "12 x 7 = 84\n",
      "12 x 8 = 96\n",
      "12 x 9 = 108\n",
      "12 x 10 = 120\n"
     ]
    }
   ],
   "source": [
    "# Q4. Create a program to print the multiplication table of a number.\n",
    "\n",
    "# Take a number as input from the user.\n",
    "num = int(input(\"Enter number: \"))\n",
    "\n",
    "# Use a for loop to iterate from 1 to 10.\n",
    "for i in range(1, 11):\n",
    "    product = num * i\n",
    "    print(f\"{num} x {i} = {product}\")"
   ]
  },
  {
   "cell_type": "code",
   "execution_count": 23,
   "id": "dbdd69fa",
   "metadata": {},
   "outputs": [
    {
     "name": "stdout",
     "output_type": "stream",
     "text": [
      "Enter a number: 6\n",
      "The factorial of 6 is 720.\n"
     ]
    }
   ],
   "source": [
    "# Q5. Create a program to find the factorial of a number using a loop and conditional statements.\n",
    "\n",
    "number = int(input(\"Enter a number: \"))\n",
    "factorial = 1\n",
    "if number < 0:\n",
    "    print(\"Factorial is not defined for negative numbers.\")\n",
    "elif number == 0:\n",
    "    print(\"The factorial of 0 is 1.\")\n",
    "else:\n",
    "    for i in range(1, number + 1):\n",
    "        factorial *= i \n",
    "    print(f\"The factorial of {number} is {factorial}.\")"
   ]
  },
  {
   "cell_type": "code",
   "execution_count": 24,
   "id": "9fdb2f29",
   "metadata": {},
   "outputs": [
    {
     "name": "stdout",
     "output_type": "stream",
     "text": [
      "Enter a number to check if it is prime: 35\n",
      "35 is not a prime number.\n"
     ]
    }
   ],
   "source": [
    "# Q6. Write a program to check if a given number is prime.\n",
    "\n",
    "def is_prime(number):\n",
    "    if number <= 1:\n",
    "        return False\n",
    "    for i in range(2, int(number**0.5) + 1):\n",
    "        if number % i == 0:\n",
    "            return False\n",
    "    return True\n",
    "num = int(input(\"Enter a number to check if it is prime: \"))\n",
    "if is_prime(num):\n",
    "    print(f\"{num} is a prime number.\")\n",
    "else:\n",
    "    print(f\"{num} is not a prime number.\")"
   ]
  },
  {
   "cell_type": "code",
   "execution_count": 25,
   "id": "7a437a17",
   "metadata": {},
   "outputs": [
    {
     "name": "stdout",
     "output_type": "stream",
     "text": [
      "The sum of all even numbers between 1 and 100 is: 2550\n"
     ]
    }
   ],
   "source": [
    "# Q7. Create a program to find the sum of all even numbers between 1 and 100.\n",
    "\n",
    "sum = 0\n",
    "\n",
    "for i in range(1, 101):\n",
    "    # Check if the number is even\n",
    "    if i % 2 == 0:\n",
    "        # Add the even number to the sum\n",
    "        sum += i\n",
    "\n",
    "print(\"The sum of all even numbers between 1 and 100 is:\", sum)"
   ]
  },
  {
   "cell_type": "code",
   "execution_count": 1,
   "id": "741d6933",
   "metadata": {},
   "outputs": [
    {
     "name": "stdout",
     "output_type": "stream",
     "text": [
      "\n",
      "Simple Calculator\n",
      "Select operation:\n",
      "1. Add\n",
      "2. Subtract\n",
      "3. Multiply\n",
      "4. Divide\n",
      "5. Exit\n",
      "Enter choice (1/2/3/4/5): 3\n",
      "Invalid input. Please enter a valid choice.\n"
     ]
    }
   ],
   "source": [
    "# Q8. Implement a simple calculator using conditional statements and loops.\n",
    "\n",
    "print(\"\\nSimple Calculator\")\n",
    "print(\"Select operation:\")\n",
    "print(\"1. Add\")\n",
    "print(\"2. Subtract\")\n",
    "print(\"3. Multiply\")\n",
    "print(\"4. Divide\")\n",
    "print(\"5. Exit\")\n",
    "\n",
    "choice = int(input(\"Enter choice (1/2/3/4/5): \"))\n",
    "\n",
    "if choice == '5':\n",
    "    print(\"Exiting the calculator.\")\n",
    "\n",
    "if choice in ('1', '2', '3', '4'):\n",
    "    num1 = float(input(\"Enter first number: \"))\n",
    "    num2 = float(input(\"Enter second number: \"))\n",
    "    \n",
    "    if choice == '1':\n",
    "        result = num1 + num2\n",
    "        print(f\"The result of addition is: {result}\")\n",
    "    elif choice == '2':\n",
    "        result = num1 - num2\n",
    "        print(f\"The result of subtraction is: {result}\")\n",
    "    elif choice == '3':\n",
    "        result = num1 * num2\n",
    "        print(f\"The result of multiplication is: {result}\")\n",
    "    elif choice == '4':\n",
    "        if num2 != 0:\n",
    "            result = num1 / num2\n",
    "            print(f\"The result of division is: {result}\")\n",
    "        else:\n",
    "            print(\"Error: Division by zero is not allowed.\")\n",
    "else:\n",
    "    print(\"Invalid input. Please enter a valid choice.\")"
   ]
  },
  {
   "cell_type": "code",
   "execution_count": null,
   "id": "a310dc05",
   "metadata": {},
   "outputs": [],
   "source": []
  }
 ],
 "metadata": {
  "kernelspec": {
   "display_name": "Python 3 (ipykernel)",
   "language": "python",
   "name": "python3"
  },
  "language_info": {
   "codemirror_mode": {
    "name": "ipython",
    "version": 3
   },
   "file_extension": ".py",
   "mimetype": "text/x-python",
   "name": "python",
   "nbconvert_exporter": "python",
   "pygments_lexer": "ipython3",
   "version": "3.11.5"
  }
 },
 "nbformat": 4,
 "nbformat_minor": 5
}
